{
 "cells": [
  {
   "cell_type": "code",
   "execution_count": 1,
   "metadata": {
    "collapsed": true
   },
   "outputs": [],
   "source": [
    "import pandas as pd\n",
    "import os"
   ]
  },
  {
   "cell_type": "code",
   "execution_count": 2,
   "metadata": {
    "collapsed": true
   },
   "outputs": [],
   "source": [
    "# a = ['Sitting 1.csv',\n",
    "# 'Sitting 2.csv',\n",
    "# 'Standing 1.csv',\n",
    "# 'Standing 2.csv',\n",
    "# 'Walking 1.csv',\n",
    "# 'Walking 2.csv',\n",
    "# 'Wd 1.csv',\n",
    "# 'Wd 2.csv',\n",
    "# 'Wu 1.csv',\n",
    "# 'Wu 2.csv']\n",
    "\n",
    "a = ['Sitting 1.csv',\n",
    "'Standing 1.csv',\n",
    "'Walking 1.csv',\n",
    "'Wd 1.csv',\n",
    "'Wu 1.csv']\n",
    "\n",
    "# b=[1,1,2,2,3,3,4,4,5,5]\n",
    "b=[1,2,3,4,5]"
   ]
  },
  {
   "cell_type": "code",
   "execution_count": 4,
   "metadata": {},
   "outputs": [],
   "source": [
    "for i in range(1,16):\n",
    "    data = pd.DataFrame()\n",
    "    \n",
    "    for t in range(len(a)):\n",
    "        asd = pd.read_csv(\"{}/{}\".format(i,a[t]), sep=';')\n",
    "        asd['label'] = b[t]\n",
    "        data = pd.concat([data, asd[['AccX[m/s^2]','AccY[m/s^2]','AccZ[m/s^2]','label']]])\n",
    "    \n",
    "    data.to_csv(\"Pri/{}.csv\".format(i))"
   ]
  }
 ],
 "metadata": {
  "kernelspec": {
   "display_name": "Python 3",
   "language": "python",
   "name": "python3"
  },
  "language_info": {
   "codemirror_mode": {
    "name": "ipython",
    "version": 3
   },
   "file_extension": ".py",
   "mimetype": "text/x-python",
   "name": "python",
   "nbconvert_exporter": "python",
   "pygments_lexer": "ipython3",
   "version": "3.6.1"
  }
 },
 "nbformat": 4,
 "nbformat_minor": 2
}
